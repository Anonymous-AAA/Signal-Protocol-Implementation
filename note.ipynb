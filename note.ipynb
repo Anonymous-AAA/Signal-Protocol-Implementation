{
 "cells": [
  {
   "cell_type": "code",
   "execution_count": null,
   "metadata": {},
   "outputs": [],
   "source": [
    "import client as c"
   ]
  },
  {
   "cell_type": "markdown",
   "metadata": {},
   "source": [
    "Initialising  user bob  and publishing keys to server.\n",
    "Only one prekey is send to the server"
   ]
  },
  {
   "cell_type": "code",
   "execution_count": 1,
   "metadata": {},
   "outputs": [],
   "source": [
    "b=c.User('bob')\n",
    "b.publish()"
   ]
  },
  {
   "attachments": {},
   "cell_type": "markdown",
   "metadata": {},
   "source": [
    "Initialising user alice and generating the secret key to send"
   ]
  },
  {
   "cell_type": "code",
   "execution_count": 2,
   "metadata": {},
   "outputs": [
    {
     "name": "stdout",
     "output_type": "stream",
     "text": [
      "b'\\x8e\\xfa>\\xc8\\x0c\\x81g\\n\\xee\\xf8\\xd2\\xe9?\\x80\\xf39\\xdb9\"\\x82\\xbe\\x84\\xa6\\x95y\\xe4(\\x923b]Z'\n"
     ]
    }
   ],
   "source": [
    "a=c.User('alice')\n",
    "a.initial_handshake('bob')\n",
    "a.generate_send_secret_key('bob')"
   ]
  }
 ],
 "metadata": {
  "kernelspec": {
   "display_name": "venv",
   "language": "python",
   "name": "python3"
  },
  "language_info": {
   "codemirror_mode": {
    "name": "ipython",
    "version": 3
   },
   "file_extension": ".py",
   "mimetype": "text/x-python",
   "name": "python",
   "nbconvert_exporter": "python",
   "pygments_lexer": "ipython3",
   "version": "3.10.7"
  },
  "orig_nbformat": 4
 },
 "nbformat": 4,
 "nbformat_minor": 2
}
