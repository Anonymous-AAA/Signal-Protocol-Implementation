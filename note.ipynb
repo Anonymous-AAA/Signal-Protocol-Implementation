{
 "cells": [
  {
   "cell_type": "code",
   "execution_count": 1,
   "metadata": {},
   "outputs": [],
   "source": [
    "import client as c"
   ]
  },
  {
   "cell_type": "markdown",
   "metadata": {},
   "source": [
    "Initialising  user bob  and publishing keys to server.\n",
    "Only one prekey is send to the server"
   ]
  },
  {
   "cell_type": "code",
   "execution_count": 2,
   "metadata": {},
   "outputs": [],
   "source": [
    "b=c.User('bob')\n",
    "b.publish()"
   ]
  },
  {
   "attachments": {},
   "cell_type": "markdown",
   "metadata": {},
   "source": [
    "Initialising user alice, publishing keys and generating the secret key to send message"
   ]
  },
  {
   "cell_type": "code",
   "execution_count": 3,
   "metadata": {},
   "outputs": [
    {
     "name": "stdout",
     "output_type": "stream",
     "text": [
      "Prekey of bob successfully verified\n",
      "Secret Key :  b'<a\\x81\\x16\\x81\\x07\\x1d\\xff\\xf5\\x9eE\\xbb\\x8d&\\xeb\\xbc\\x84\\x0e=\\xc8\\xba\\x11M9\\x9f\\x04^\\x0b\\x89\\x04\\xbc5'\n"
     ]
    }
   ],
   "source": [
    "a=c.User('alice')\n",
    "a.publish()\n",
    "a.initialHandshake('bob')\n",
    "a.generateSendSecretKey('bob')"
   ]
  },
  {
   "attachments": {},
   "cell_type": "markdown",
   "metadata": {},
   "source": [
    "Create and send Alice's initial message to Bob"
   ]
  },
  {
   "cell_type": "code",
   "execution_count": 4,
   "metadata": {},
   "outputs": [
    {
     "name": "stdout",
     "output_type": "stream",
     "text": [
      "Alice message signature:  b'\\x85E\\xc84\\x98L\\xfcRp\\xb2\\x89\\xca\\xdbM\\x92!\\xe9r\\xa3\\x90\\t\\x7fp\\x99\\x1c\\xdd5\\x03\\t\\xde\\xb3_\\x8b#\\xfc\\xbe\\x96\\x9d0\\x08\\x15\\x07\\xd1n\\xbe\\\\\\x92rY\\xa0\\xab=\\xa2\\x7f\\xbd\\xeb\\xa3\\xe2\\xd6x~\\xce0\\x8d'\n",
      "Data:  b'\\xad\\xf4%\\x19\\x8a\\xad\\x83AiX5=\\x15*\\xdf\\x08p\\\\\\x08\\x8d\\xdb\\xe2h\\xae\\xbdOQL\\x9c\\x11lkT\\xbc\\x0e\\x1e{\\x08%\\x89\\xb01[\\xf7\\xeb\\\\\\x05\\xcc\\xc4\\xb6\\x90\\xb7\\xe2\\xa1gH/\\xb6\\x94\\x84\\xef\\xff\\ti\\xbbS\\x07\\xb5mr\\n=I\\xe8\\xe4\\xe1\\xf0,\\xe1\\xcb\\xa3pGX\\xa7\\x8bY,\\xf3\\x9e\\xf0\\x0b\\x12\\x1d\\x87<{\"from\": \"alice\", \"to\": \"bob\", \"message\": \"hello hi guys\"}'\n",
      "Message sent : b\"\\xad\\xf4%\\x19\\x8a\\xad\\x83AiX5=\\x15*\\xdf\\x08p\\\\\\x08\\x8d\\xdb\\xe2h\\xae\\xbdOQL\\x9c\\x11lkT\\xbc\\x0e\\x1e{\\x08%\\x89\\xb01[\\xf7\\xeb\\\\\\x05\\xcc\\xc4\\xb6\\x90\\xb7\\xe2\\xa1gH/\\xb6\\x94\\x84\\xef\\xff\\ti\\xbbS\\x07\\xb5mr\\n=I\\xe8\\xe4\\xe1\\xf0,\\xe1\\xcb\\xa3pGX\\xa7\\x8bY,\\xf3\\x9e\\xf0\\x0b\\x12\\x1d\\x87<v\\xaaWl%1.\\xbad\\x88q\\xbe\\x86\\xc0,8\\xf8\\x8c\\xc9|\\xa8\\x11\\xb4W\\x15\\xc3\\x8c\\x1c\\x9d\\xf9\\xf7\\xbd\\x83\\xcdU\\x000\\xd5@\\xabs\\xfcFx\\x00v\\xe7(\\xfa\\x83\\xe7\\x17\\x93\\xd8\\x12\\x9d\\x92\\xf7\\x86E\\x00\\xad{\\x91\\xfc*\\xb1\\x0c\\x86;\\xa5^\\x13\\xe4\\xbc\\x12\\t\\xc5\\xe9\\x19\\xd4 \\x07\\xcb\\xa8O\\x92\\xfbu\\x0cX\\x8d\\x99u\\x05 \\x8c\\xb3>\\xdb\\xcd\\xab`\\xfco\\xfc\\xac\\xd4\\xf8\\xc62\\x92\\x93\\xfd\\xb0\\xd3P\\xa7\\x11g\\xa9=sD\\x9d\\xe1~n\\xd7\\x16\\x1b\\x94C6\\n\\x9e\\x87\\xef\\x05`\\x15\\xe7ar\\x93a\\x8b_\\x05\\xe1\\xf2K\\xeb\\xda\\x0c\\x93\\x0f\\xd3g\\xbao'\\x87\\xe3\\xe9\\xdaq\\xf0iC\\x97\\xd9\\x08s\\xe9\\xfcY\\x8a\\xf9\\xed\\x1cQ\\x9f\\xd6\\tB\\x8e\\xb2<*`N##pO\\xf8\\x18\\xa5\\x86\\x14\\xb6\\xcd\\xf6\\x7f\\xea`\\xeb\\x9cy\\x91}G\\x89@\\xa3\\xee\\x8b\"\n"
     ]
    }
   ],
   "source": [
    "a.sendInitialMessage('bob','hello hi guys')"
   ]
  },
  {
   "attachments": {},
   "cell_type": "markdown",
   "metadata": {},
   "source": [
    "Bob receives the message,verifies it and creates secret key"
   ]
  },
  {
   "cell_type": "code",
   "execution_count": 5,
   "metadata": {},
   "outputs": [
    {
     "name": "stdout",
     "output_type": "stream",
     "text": [
      "Received Message from alice\n",
      "Found OPK\n",
      "Receiver Secret Key:  b'<a\\x81\\x16\\x81\\x07\\x1d\\xff\\xf5\\x9eE\\xbb\\x8d&\\xeb\\xbc\\x84\\x0e=\\xc8\\xba\\x11M9\\x9f\\x04^\\x0b\\x89\\x04\\xbc5'\n",
      "Message:  {'from': 'alice', 'to': 'bob', 'message': 'hello hi guys'}\n",
      "Deleted receiver's One time prekey after decryption for forward secrecy\n"
     ]
    }
   ],
   "source": [
    "hello=b.recvInitialMessage() "
   ]
  }
 ],
 "metadata": {
  "kernelspec": {
   "display_name": "venv",
   "language": "python",
   "name": "python3"
  },
  "language_info": {
   "codemirror_mode": {
    "name": "ipython",
    "version": 3
   },
   "file_extension": ".py",
   "mimetype": "text/x-python",
   "name": "python",
   "nbconvert_exporter": "python",
   "pygments_lexer": "ipython3",
   "version": "3.10.7"
  },
  "orig_nbformat": 4,
  "vscode": {
   "interpreter": {
    "hash": "54fe8f0b6590fdc0a17510ba3aac962809247f4cb6046f476956e60f80954751"
   }
  }
 },
 "nbformat": 4,
 "nbformat_minor": 2
}
