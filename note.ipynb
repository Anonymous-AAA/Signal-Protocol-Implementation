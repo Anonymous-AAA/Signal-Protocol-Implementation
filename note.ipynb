{
 "cells": [
  {
   "cell_type": "code",
   "execution_count": 1,
   "metadata": {},
   "outputs": [],
   "source": [
    "import client as c"
   ]
  },
  {
   "attachments": {},
   "cell_type": "markdown",
   "metadata": {},
   "source": [
    "Initialising  user bob  and publishing keys to server.\n",
    "Multiple prekeys are send to the server"
   ]
  },
  {
   "cell_type": "code",
   "execution_count": 2,
   "metadata": {},
   "outputs": [],
   "source": [
    "b=c.User('bob')\n",
    "b.publish()"
   ]
  },
  {
   "attachments": {},
   "cell_type": "markdown",
   "metadata": {},
   "source": [
    "Initialising user alice, publishing keys and generating the secret key to send message"
   ]
  },
  {
   "cell_type": "code",
   "execution_count": 3,
   "metadata": {},
   "outputs": [
    {
     "name": "stdout",
     "output_type": "stream",
     "text": [
      "Prekey of bob successfully verified\n",
      "Secret Key :  b'\\xb8]\\x94E\\x9c3\\x03\\xeb\\xfc\\x9b\\xa8\\x0c\\xaa\\xfe\\x18\\x905_k7(\\x9e\\xaa|&$\\xcb\\xb0 U\\xbe\\xc9'\n"
     ]
    }
   ],
   "source": [
    "a=c.User('alice')\n",
    "a.publish()\n",
    "a.initialHandshake('bob')\n",
    "a.generateSendSecretKey('bob')"
   ]
  },
  {
   "attachments": {},
   "cell_type": "markdown",
   "metadata": {},
   "source": [
    "Create and send Alice's initial message to Bob"
   ]
  },
  {
   "cell_type": "code",
   "execution_count": 4,
   "metadata": {},
   "outputs": [
    {
     "name": "stdout",
     "output_type": "stream",
     "text": [
      "Alice message signature:  b'\\x82\\x94\\x10\\xa6\"\\xb6\\xfc\\x9ew\\xc3\\xdc\\x10\\n\\xe8\\x8a\\x0b \\x02Y\\xc1\\xb8\\xa8U\\xdb\\x99\\xd2\\xe1\\xbc_PR\\xf8Z\\xca\\xa7/\\x87\\xfa\\xf0k\\x0c\\xd7\\x1dK\\xa3#\\xe0\\x87[\\xdd+J\\xa9\\xbc\\x8a\\x86\\x1fG#\\x1c\\x13\\xec\\xb7\\x0f'\n",
      "Data:  b'd\\xcf\\x07\\xa5\\xb5\\x10\\x1f\\xc6\\x19\\xcf}2\\xddc\\xb9a\\xc2\\xa17h\\x00\\xac:\\xb5\\x91O\\xaa\\x81\\xad\\x0c+o4\\x0b:\\xf0gT\\x85\\xd4n\\x18\\x82\\x9fx\\xc6\\xa2/s\\xa7b/\\xfd\\xf6?=\\xe7\\xa5\\xef{\\xcaW\\xf6hO\\xb9a\\xc0F\\xfe\\x8a\\x87\\xc8\\xa8T\\xcd\\xbb\\xba\\xbf?n\\xa7\\x7f\\x86\\xe9\\xb7\\xfe\\x8cH\\xda\\xed{A\\xb2,\\x1a{\"from\": \"alice\", \"to\": \"bob\", \"message\": \"hello hi guys\"}'\n",
      "Message sent : b'd\\xcf\\x07\\xa5\\xb5\\x10\\x1f\\xc6\\x19\\xcf}2\\xddc\\xb9a\\xc2\\xa17h\\x00\\xac:\\xb5\\x91O\\xaa\\x81\\xad\\x0c+o4\\x0b:\\xf0gT\\x85\\xd4n\\x18\\x82\\x9fx\\xc6\\xa2/s\\xa7b/\\xfd\\xf6?=\\xe7\\xa5\\xef{\\xcaW\\xf6hO\\xb9a\\xc0F\\xfe\\x8a\\x87\\xc8\\xa8T\\xcd\\xbb\\xba\\xbf?n\\xa7\\x7f\\x86\\xe9\\xb7\\xfe\\x8cH\\xda\\xed{A\\xb2,\\x1a\\xe1\\\\f$e\\x1b\\xdf\\x88\\xa3\\x8a\\xbd\\x19\\x9f$\\xd0\\xf7\\xeb\\xdb\\xde\\x9d\\x7f\\xd6\\xc9e\\x9b\\xe8\\x9b\\xc0\\x07o\\x17\\xc8\\xba@\\x8e\\xf9tPt\\x8f\\xf2 /\\x01\\xeb\\x07\\x01\\xf6c\\x88\\x82\\x05\\xd5\\xd6\\\\d\\\\E\\x02m\\xd2\\x1c\\xf4\\xbd\\xfd\\xaa\\xaa\\xc3\\xb95\\xb4y=t\\x19\\x0f\\xdbC\\xbb+!=@7R\\xc6z\\x8a\\xeaa\\x9dI\\xd2\\xea\\xac\\xcd\\x96\\xcf\\xa8u\\xf3\\x8c\\xf8c\\xb0_JR\\xeb#\\x03`\\xf9_\\xc2\\x974\\x87\\xc7\\x19\\x95\\xabv\\xf24z\\x0f1\\xa0\\xf0\\xb02\"\\xfc\\x9dX\\\\\\x0b\\x85\\x13\\x05[Q\\xff\\'K\\xf0\\x80f\\xa0L\\n\\xa3\\x8e\\x8d\\x06!\\x18&\\x84\\xda\\x03\\xbb\\xf4s\\x9b\\xbd\\xcb%M\\x98&IJ\\xd8\\x8e\\x1bl\\xc4l(\\xfaCX\\x93U?\\x06U\\xc1z\\x04\\x0cnS\\t\\x12p\\x0b\\x93\\xc7\\x02l\\xd9[\\x82F\\xc9\\x91\\xfa\\xb3h\\\\\\xe0\\xd6)W\\x9b'\n"
     ]
    }
   ],
   "source": [
    "a.sendInitialMessage('bob','hello hi guys')"
   ]
  },
  {
   "attachments": {},
   "cell_type": "markdown",
   "metadata": {},
   "source": [
    "Bob receives the message,verifies it and creates secret key"
   ]
  },
  {
   "cell_type": "code",
   "execution_count": 5,
   "metadata": {},
   "outputs": [
    {
     "name": "stdout",
     "output_type": "stream",
     "text": [
      "Received Message from alice\n",
      "Found OPK\n",
      "Receiver Secret Key:  b'\\xb8]\\x94E\\x9c3\\x03\\xeb\\xfc\\x9b\\xa8\\x0c\\xaa\\xfe\\x18\\x905_k7(\\x9e\\xaa|&$\\xcb\\xb0 U\\xbe\\xc9'\n",
      "Message:  {'from': 'alice', 'to': 'bob', 'message': 'hello hi guys'}\n",
      "Deleted receiver's One time prekey after decryption for forward secrecy\n"
     ]
    }
   ],
   "source": [
    "hello=b.recvInitialMessage() "
   ]
  }
 ],
 "metadata": {
  "kernelspec": {
   "display_name": "venv",
   "language": "python",
   "name": "python3"
  },
  "language_info": {
   "codemirror_mode": {
    "name": "ipython",
    "version": 3
   },
   "file_extension": ".py",
   "mimetype": "text/x-python",
   "name": "python",
   "nbconvert_exporter": "python",
   "pygments_lexer": "ipython3",
   "version": "3.10.7"
  },
  "orig_nbformat": 4,
  "vscode": {
   "interpreter": {
    "hash": "54fe8f0b6590fdc0a17510ba3aac962809247f4cb6046f476956e60f80954751"
   }
  }
 },
 "nbformat": 4,
 "nbformat_minor": 2
}
