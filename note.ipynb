{
 "cells": [
  {
   "cell_type": "code",
   "execution_count": 1,
   "metadata": {},
   "outputs": [],
   "source": [
    "import client as c"
   ]
  },
  {
   "cell_type": "markdown",
   "metadata": {},
   "source": [
    "Initialising  user bob  and publishing keys to server.\n",
    "Only one prekey is send to the server"
   ]
  },
  {
   "cell_type": "code",
   "execution_count": 2,
   "metadata": {},
   "outputs": [],
   "source": [
    "b=c.User('bob')\n",
    "b.publish()"
   ]
  },
  {
   "attachments": {},
   "cell_type": "markdown",
   "metadata": {},
   "source": [
    "Initialising user alice, publishing keys and generating the secret key to send message"
   ]
  },
  {
   "cell_type": "code",
   "execution_count": 3,
   "metadata": {},
   "outputs": [
    {
     "name": "stdout",
     "output_type": "stream",
     "text": [
      "Prekey successfully verified\n",
      "Secret Key :  b'cG\\xaf\\xc1\\xb5H/\\x99%\\x06\\xd0\\x87&\\xc3sv\\x1d\\x19S\\xb9\\xd5\\x02M\\xac\\xb1\\xef\\x0f\\xf5\\xcf_\\x08\\x98'\n"
     ]
    }
   ],
   "source": [
    "a=c.User('alice')\n",
    "a.publish()\n",
    "a.initial_handshake('bob')\n",
    "a.generate_send_secret_key('bob')"
   ]
  },
  {
   "attachments": {},
   "cell_type": "markdown",
   "metadata": {},
   "source": [
    "Create and send Alice's initial message to Bob"
   ]
  },
  {
   "cell_type": "code",
   "execution_count": 4,
   "metadata": {},
   "outputs": [
    {
     "name": "stdout",
     "output_type": "stream",
     "text": [
      "Alice message signature:  b\"\\x8cvy\\xe2'\\x1a\\xd7\\x05\\xeb$\\xf6\\xa6\\xbe\\x1d\\x12\\x19\\xe1\\x1f\\xfe\\xee\\xd1g\\x7f\\xcbX\\xe9;\\x84\\x14\\x99\\xab\\x9d~\\x17\\xbc\\xf2s\\x9fDe\\x1f\\x87\\x9a\\xe5\\r\\x18\\xb2\\x19\\xa7\\x98e\\x92\\xf3\\xad\\xea\\x94\\xd5\\x92q\\x81\\xac\\xc5\\x89\\x06\"\n",
      "data:  b'\\xcf\\xe5\\xa3<_&\\x8adF\\x83\\xa1\\xb1\\x87\\t\\xed\\x10\\x02\\x10\\x8be>P\\x085\\xc7Y\\xfc\\xaf\\x121\\xc3_\\x1e\\x96-\\x12\\x8b\\x01\\x85hX\\xa1\\xfcg7\\\\(\\xe5\\x9e\\xe7\\x91p\\x04a|\\xbe#&\\xd5\\xd4\\xd13ZD\\x12\\x17\\xc9\\x16\\xfb\\xb76Q P\\xab\\x83h\\xa1\\xe2\\x07\\xe6\\x18\\x8e\\x8a\\xde\\x89\\xb6\\x00\\xf7\\xaa\\x96,\\x867.H{\"from\": \"alice\", \"to\": \"bob\", \"message\": \"hello hi guys\"}'\n"
     ]
    }
   ],
   "source": [
    "a.build_x3dh_hello('bob','hello hi guys')"
   ]
  },
  {
   "attachments": {},
   "cell_type": "markdown",
   "metadata": {},
   "source": [
    "Bob receives the message,verifies it and creates secret key"
   ]
  },
  {
   "cell_type": "code",
   "execution_count": 5,
   "metadata": {},
   "outputs": [
    {
     "name": "stdout",
     "output_type": "stream",
     "text": [
      "Sender:  alice\n",
      "Found OPK\n",
      "bob sk:  b'cG\\xaf\\xc1\\xb5H/\\x99%\\x06\\xd0\\x87&\\xc3sv\\x1d\\x19S\\xb9\\xd5\\x02M\\xac\\xb1\\xef\\x0f\\xf5\\xcf_\\x08\\x98'\n",
      "Message:  {'from': 'alice', 'to': 'bob', 'message': 'hello hi guys'}\n"
     ]
    }
   ],
   "source": [
    "hello=b.recv_x3dh_hello_message() "
   ]
  }
 ],
 "metadata": {
  "kernelspec": {
   "display_name": "venv",
   "language": "python",
   "name": "python3"
  },
  "language_info": {
   "codemirror_mode": {
    "name": "ipython",
    "version": 3
   },
   "file_extension": ".py",
   "mimetype": "text/x-python",
   "name": "python",
   "nbconvert_exporter": "python",
   "pygments_lexer": "ipython3",
   "version": "3.10.7"
  },
  "orig_nbformat": 4
 },
 "nbformat": 4,
 "nbformat_minor": 2
}
