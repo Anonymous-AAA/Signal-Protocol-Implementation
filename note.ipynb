{
 "cells": [
  {
   "cell_type": "code",
   "execution_count": 1,
   "metadata": {},
   "outputs": [],
   "source": [
    "import client as c"
   ]
  },
  {
   "cell_type": "markdown",
   "metadata": {},
   "source": [
    "Initialising  user bob  and publishing keys to server.\n",
    "Only one prekey is send to the server"
   ]
  },
  {
   "cell_type": "code",
   "execution_count": 2,
   "metadata": {},
   "outputs": [],
   "source": [
    "b=c.User('bob')\n",
    "b.publish()"
   ]
  },
  {
   "attachments": {},
   "cell_type": "markdown",
   "metadata": {},
   "source": [
    "Initialising user alice, publishing keys and generating the secret key to send message"
   ]
  },
  {
   "cell_type": "code",
   "execution_count": 3,
   "metadata": {},
   "outputs": [
    {
     "name": "stdout",
     "output_type": "stream",
     "text": [
      "Prekey successfully verified\n",
      "Secret Key :  b'\\x18\\x82NN\\xd5_q`\\xf7\\xab\\xccu\\xeb\\xf77P\\xea\\x8b=\\x9dy\\xb2\\xb9 \\xcd>\\xf1\\x94L\\x8e\\xbc,'\n"
     ]
    }
   ],
   "source": [
    "a=c.User('alice')\n",
    "a.publish()\n",
    "a.initial_handshake('bob')\n",
    "a.generate_send_secret_key('bob')"
   ]
  },
  {
   "attachments": {},
   "cell_type": "markdown",
   "metadata": {},
   "source": [
    "Create and send Alice's initial message to Bob"
   ]
  },
  {
   "cell_type": "code",
   "execution_count": 4,
   "metadata": {},
   "outputs": [
    {
     "name": "stdout",
     "output_type": "stream",
     "text": [
      "Alice message signature:  b'\\xd0\\xb0\\xf3\\x9b\\x92 \\x1a)\\xfa\\xa0g6(\\x8aQ \\xea\\x84\\xb0\\xe4\\x16\\xb3\\xd8j=\\xd7e\\x08\\x88\\xff6\\xcc\\xea\\x8c\\xe5\\x95v\\xa8\\xfa\\xd4g\\r\\x9f\\xb1\\xc1:V\\xbf\\x12.#\\xa6\\x8eAJ\\x83]\\x13\\x1fL\\x00@%\\x04'\n",
      "data:  b'e\\xae{d\\xe7\\xf7\\xd8\\xe0\\xd7@\\xc8@\\xc9;S\\xf6y\\x9e3\\x99_\\xf0\\xd6\\x8fR(\\x07f)#\\x02/\\x9b\\xcb\\xbaY~#\\xd6\\xc0\\x96\\x1c`\\xaf\\xb7k\\x94\\xb4\\xda\\xa8dbV\\xfa\\xe7;\\xdc\\x97+\\xea\\xe8OKJ\\x01|\\xfa\\x7f\\x00\\x92\\x15B\\x90N\\xa8\\x13[q\\xcem\\t\\x13r\\xe2\\xcb\\x0e\\xd5\\xf7D\\x06\\xa9\\x16\\xf9\\t\\x17\\x02{\"from\": \"alice\", \"to\": \"bob\", \"message\": \"hello\"}'\n"
     ]
    }
   ],
   "source": [
    "a.build_x3dh_hello('bob','hello')"
   ]
  },
  {
   "attachments": {},
   "cell_type": "markdown",
   "metadata": {},
   "source": [
    "Bob receives the message,verifies it and creates secret key"
   ]
  },
  {
   "cell_type": "code",
   "execution_count": 5,
   "metadata": {},
   "outputs": [
    {
     "name": "stdout",
     "output_type": "stream",
     "text": [
      "Sender:  alice\n",
      "Unable to verify Signed Prekey\n"
     ]
    }
   ],
   "source": [
    "hello=b.recv_x3dh_hello_message() "
   ]
  }
 ],
 "metadata": {
  "kernelspec": {
   "display_name": "venv",
   "language": "python",
   "name": "python3"
  },
  "language_info": {
   "codemirror_mode": {
    "name": "ipython",
    "version": 3
   },
   "file_extension": ".py",
   "mimetype": "text/x-python",
   "name": "python",
   "nbconvert_exporter": "python",
   "pygments_lexer": "ipython3",
   "version": "3.10.7"
  },
  "orig_nbformat": 4
 },
 "nbformat": 4,
 "nbformat_minor": 2
}
