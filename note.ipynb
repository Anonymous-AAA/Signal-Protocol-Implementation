{
 "cells": [
  {
   "cell_type": "code",
   "execution_count": 1,
   "metadata": {},
   "outputs": [],
   "source": [
    "import client as c"
   ]
  },
  {
   "cell_type": "markdown",
   "metadata": {},
   "source": [
    "Initialising  user bob  and publishing keys to server.\n",
    "Only one prekey is send to the server"
   ]
  },
  {
   "cell_type": "code",
   "execution_count": 2,
   "metadata": {},
   "outputs": [],
   "source": [
    "b=c.User('bob')\n",
    "b.publish()"
   ]
  },
  {
   "attachments": {},
   "cell_type": "markdown",
   "metadata": {},
   "source": [
    "Initialising user alice, publishing keys and generating the secret key to send message"
   ]
  },
  {
   "cell_type": "code",
   "execution_count": 3,
   "metadata": {},
   "outputs": [
    {
     "name": "stdout",
     "output_type": "stream",
     "text": [
      "Prekey successfully verified\n",
      "Secret Key :  b'\\xb6\\x19\\xf6\\xf2\\xfbI\\x0e\\xd5\\x99\\xd3\\x11\\nk\\xd8\\x9c\\xb0`J\\xb7\\xc0\\xc4\\xa4f\\xaf\\xfd6I\\x15\\x8cv\\xd7#'\n"
     ]
    }
   ],
   "source": [
    "a=c.User('alice')\n",
    "a.publish()\n",
    "a.initial_handshake('bob')\n",
    "a.generate_send_secret_key('bob')"
   ]
  },
  {
   "attachments": {},
   "cell_type": "markdown",
   "metadata": {},
   "source": [
    "Create and send Alice's initial message to Bob"
   ]
  },
  {
   "cell_type": "code",
   "execution_count": 4,
   "metadata": {},
   "outputs": [
    {
     "name": "stdout",
     "output_type": "stream",
     "text": [
      "Alice message signature:  b'\\xcc\\x9b\\xfaM\\x82U\\x9d\\\\\\xd1C\\xf8\\xfd3\\x07\\xfe\\x864u\\xdb\\t\\xe4!\\xd5\\xa3NS\\xc6/\\xea\\xf1W\\xcaO~\\x91\\x92\\xc4\\xaa.>L\\x05\\xd7\\xf7s\\xe1\\xd2\\x05r\\x91\\x0f`\\xd0uQ\\xfa\\x04\"\\x0c)\\xcd\\xd0\\x87\\x8f'\n",
      "data:  b'u\\xab\\x1eZ\\xdb]\\xfe\\x9bF\\xf2\\xaf\\x00\\x18[\\xe9\\x95\\xc9\\xc6\\x07\\x8c\\xc8\\xa9l\\xcd\\xb1\\x10K\\x9e\\xb8H\\x8chg\\x89\\x17\\x86]QvA\\xea;\\xe7w\\xfe\\xc7R\\x80ong\\xdc*\\x9d\\\\\\xce\\x1d\\xb5\\xb4\\x08\\x9bk\\x94\\r\\xb2d\\xfc\\x03\\xe1\\xdb\\xaf\\xd8eY\\xc6@\\x05\\xc4\\x03\\xc1\\xab[\\x16\\x12\\xf4\\xd3{\\xf8\\x94@\\x93O0\\xb6\\x058{\"from\": \"alice\", \"to\": \"bob\", \"message\": \"hello hi guys\"}'\n"
     ]
    }
   ],
   "source": [
    "a.build_x3dh_hello('bob','hello hi guys')"
   ]
  },
  {
   "attachments": {},
   "cell_type": "markdown",
   "metadata": {},
   "source": [
    "Bob receives the message,verifies it and creates secret key"
   ]
  },
  {
   "cell_type": "code",
   "execution_count": 5,
   "metadata": {},
   "outputs": [
    {
     "name": "stdout",
     "output_type": "stream",
     "text": [
      "Sender:  alice\n",
      "Found OPK\n",
      "bob sk:  b'\\xb6\\x19\\xf6\\xf2\\xfbI\\x0e\\xd5\\x99\\xd3\\x11\\nk\\xd8\\x9c\\xb0`J\\xb7\\xc0\\xc4\\xa4f\\xaf\\xfd6I\\x15\\x8cv\\xd7#'\n",
      "Message:  {'from': 'alice', 'to': 'bob', 'message': 'hello hi guys'}\n"
     ]
    }
   ],
   "source": [
    "hello=b.recv_x3dh_hello_message() "
   ]
  }
 ],
 "metadata": {
  "kernelspec": {
   "display_name": "venv",
   "language": "python",
   "name": "python3"
  },
  "language_info": {
   "codemirror_mode": {
    "name": "ipython",
    "version": 3
   },
   "file_extension": ".py",
   "mimetype": "text/x-python",
   "name": "python",
   "nbconvert_exporter": "python",
   "pygments_lexer": "ipython3",
   "version": "3.10.7"
  },
  "orig_nbformat": 4,
  "vscode": {
   "interpreter": {
    "hash": "54fe8f0b6590fdc0a17510ba3aac962809247f4cb6046f476956e60f80954751"
   }
  }
 },
 "nbformat": 4,
 "nbformat_minor": 2
}
