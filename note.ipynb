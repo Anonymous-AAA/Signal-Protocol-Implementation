{
 "cells": [
  {
   "cell_type": "code",
   "execution_count": 1,
   "metadata": {},
   "outputs": [],
   "source": [
    "import client as c"
   ]
  },
  {
   "cell_type": "markdown",
   "metadata": {},
   "source": [
    "Initialising  user bob  and publishing keys to server.\n",
    "Only one prekey is send to the server"
   ]
  },
  {
   "cell_type": "code",
   "execution_count": 2,
   "metadata": {},
   "outputs": [],
   "source": [
    "b=c.User('bob')\n",
    "b.publish()"
   ]
  },
  {
   "attachments": {},
   "cell_type": "markdown",
   "metadata": {},
   "source": [
    "Initialising user alice and generating the secret key to send"
   ]
  },
  {
   "cell_type": "code",
   "execution_count": 3,
   "metadata": {},
   "outputs": [
    {
     "name": "stdout",
     "output_type": "stream",
     "text": [
      "b'meE\\xe3L\\xfb\\xca\\x11\\x15\\xa9\\x10\\xd3w\\xaflV\\xe6H\\xb3\\xbf\\x98\\x07\\x14\\x80?\\xaef\\x1a\":1\\xf9'\n"
     ]
    }
   ],
   "source": [
    "a=c.User('alice')\n",
    "a.initial_handshake('bob')\n",
    "a.generate_send_secret_key('bob')"
   ]
  },
  {
   "attachments": {},
   "cell_type": "markdown",
   "metadata": {},
   "source": [
    "Create and send Alice's initial message to Bob"
   ]
  },
  {
   "cell_type": "code",
   "execution_count": 4,
   "metadata": {},
   "outputs": [
    {
     "name": "stdout",
     "output_type": "stream",
     "text": [
      "Alice message signature:  b'\\xd3\\x04\\x06Z\\x03A\\x9f\\xd5\\x83\\x8e\\xab\\x96\\xbf%~\\xb63j\\xc7\\xad1\\t\\xd7t~\\xe7\\xf4\\xce\\xfeK\\x0f\\xf87s[\\xdd\\x00\\x1eu+\\xf6h\\xcb)Q\\x00i\\xe1\\xea.a\\xf3\\x9av\\xdd\\xcd\\x9fi\\xcd\\x9a\\x9b\\xf7U\\x85'\n",
      "data:  b'A*\\x9f\\xfa\\xab9\\xda\\xe5M\\xdc\\x0b\\x0c\\x91\\'G\\x13D\\x07\\xaeWap\\x93\\x89\\t\\xa6VYj\\xf9\\xeer\\xdf\\xe8\\x9d\\xd2(\\x9e\\xb1~tS\\xca\\x8e\\'$E\\xa5)\\x12~\\xeb\\x02\\xf3\\xbbP\\xe3\\x9e-f}b{NNp\\xc9bM\\x16,\\xdc\\xe2\\xe2\\xb9\\xd3\\x01\\x81\\xd6bH|\\xebI\\x813\\xbb\\x88j-\\xad\\xcb\\x8e\\xeb\\xd85{\"from\": \"alice\", \"to\": \"bob\", \"message\": \"hello\"}'\n"
     ]
    }
   ],
   "source": [
    "a.build_x3dh_hello('bob','hello')"
   ]
  }
 ],
 "metadata": {
  "kernelspec": {
   "display_name": "venv",
   "language": "python",
   "name": "python3"
  },
  "language_info": {
   "codemirror_mode": {
    "name": "ipython",
    "version": 3
   },
   "file_extension": ".py",
   "mimetype": "text/x-python",
   "name": "python",
   "nbconvert_exporter": "python",
   "pygments_lexer": "ipython3",
   "version": "3.10.7"
  },
  "orig_nbformat": 4
 },
 "nbformat": 4,
 "nbformat_minor": 2
}
