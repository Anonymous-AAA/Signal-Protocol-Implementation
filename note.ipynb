{
 "cells": [
  {
   "cell_type": "code",
   "execution_count": 1,
   "metadata": {},
   "outputs": [],
   "source": [
    "import client as c"
   ]
  },
  {
   "cell_type": "markdown",
   "metadata": {},
   "source": [
    "Initialising  user bob  and publishing keys to server.\n",
    "Only one prekey is send to the server"
   ]
  },
  {
   "cell_type": "code",
   "execution_count": 2,
   "metadata": {},
   "outputs": [],
   "source": [
    "b=c.User('bob')\n",
    "b.publish()"
   ]
  },
  {
   "attachments": {},
   "cell_type": "markdown",
   "metadata": {},
   "source": [
    "Initialising user alice, publishing keys and generating the secret key to send message"
   ]
  },
  {
   "cell_type": "code",
   "execution_count": 3,
   "metadata": {},
   "outputs": [
    {
     "name": "stdout",
     "output_type": "stream",
     "text": [
      "Prekey of bob successfully verified\n",
      "Secret Key :  b'\\xc6\\xd51\\x17\\x12\\xbe\\xced\\xc1\\x96\\x14PzcO\\xf1\\xeb\\xef\\x18g\\xf7e\\xf2\\xe7\\xe3\\xfb\\xd3\\xfc\\x17\\x1d\\x115'\n"
     ]
    }
   ],
   "source": [
    "a=c.User('alice')\n",
    "a.publish()\n",
    "a.initialHandshake('bob')\n",
    "a.generateSendSecretKey('bob')"
   ]
  },
  {
   "attachments": {},
   "cell_type": "markdown",
   "metadata": {},
   "source": [
    "Create and send Alice's initial message to Bob"
   ]
  },
  {
   "cell_type": "code",
   "execution_count": 4,
   "metadata": {},
   "outputs": [
    {
     "name": "stdout",
     "output_type": "stream",
     "text": [
      "Alice message signature:  b'rT\\xc4a\\xa7Mz\\xbe\\x88\\xd6\\xab%\\x0c\\xfe\\x14\\xd2b\\xbb\\xed\\x02L\\x17\\xb9\\xc4\\xd7\\xfc\\x17<\\xef\\xc0\\x84\\xeaN;\\xe7\\xbfD\\xe2;\\xd7,\\xed\\x88\\xd9\\xd6\\xa6\\xfe\"\\xa2\\x85\\xa1\\xc9}\\xb3\\x0fW\\xa2\\xc6d\\x9f\\tkC\\x03'\n",
      "Data:  b'\\x83\\x16\\x00\\xb0\\xd1\\xd9\\xe5.\\x9a\\x01\\x96zw\\x9a\\x0f\\xa8\\xc5\\xd9\\x86Vl\\x89e\\x9a\\xba&+,\\xcc\\x18X\\x18\\xc445_7I\\xc7\\xd1\\x86`@\\xb5,\\xd7ao\\xdbL\\x00@\\xc1\\xba\\x14\\x8e\\x1bf \\x92\\x8c!\\x10h\\xa0\\xa3\\\\\\xfe\\xd04Sh\\xf4\\xce\\x80\\xf7S\\xcb\\xf7\\xae\\xa5\\xa6\\xc9G\\xb5n\\xe2\\x8b\\xe5\\xc1m&`F\\xe30{\"from\": \"alice\", \"to\": \"bob\", \"message\": \"hello hi guys\"}'\n",
      "Message sent : b\"\\x83\\x16\\x00\\xb0\\xd1\\xd9\\xe5.\\x9a\\x01\\x96zw\\x9a\\x0f\\xa8\\xc5\\xd9\\x86Vl\\x89e\\x9a\\xba&+,\\xcc\\x18X\\x18\\xc445_7I\\xc7\\xd1\\x86`@\\xb5,\\xd7ao\\xdbL\\x00@\\xc1\\xba\\x14\\x8e\\x1bf \\x92\\x8c!\\x10h\\xa0\\xa3\\\\\\xfe\\xd04Sh\\xf4\\xce\\x80\\xf7S\\xcb\\xf7\\xae\\xa5\\xa6\\xc9G\\xb5n\\xe2\\x8b\\xe5\\xc1m&`F\\xe30\\x98\\xef\\xdf\\x8dN\\xc6\\xd9\\xf3-\\x96\\xdcF\\xf7\\xcf\\x94 \\xe0B\\xa1\\xca\\x9d\\x08\\xe8\\xc66\\x0c\\x0e\\xdd^\\xb0\\x04L\\xb0\\xb2\\xf8p\\x12\\x99\\x94`A\\xe6\\x1d\\xc2\\r\\xba\\x1c\\xd8\\xec=&\\x12e\\xec+=#\\xb6\\xcfk\\xd2\\xfeu\\x03\\xe5\\x9d\\xd8x\\xf9\\xd1#.\\xc0\\xe17\\xd2@U\\xa0\\t\\x91\\xbaU\\xee <X\\n]\\xab\\xc44:\\x8a\\xf2  \\xc1\\xd4\\x884Cm\\nm;\\xfb\\xa0\\xbbl\\xf8}2\\xf9\\x04\\xe7\\xb5\\x9dN\\xd7\\xb7;Y\\xcc\\x88y\\x0f\\xe5\\xf4\\xd9\\xd4X\\xcf\\x9e\\xf8\\xd9\\xb3\\xd3\\xa9q\\xc7<h\\x15\\x1e\\xf9\\x8e\\xf9\\xa3'\\xc7n\\xee\\xb2\\xf7\\x85\\xb5\\xe2W\\x08\\xe8\\xb3\\xf08#\\xcc\\xc5\\x95'~G\\xb97\\x93K$T\\xa0gi,\\x8a\\x03\\xae\\xbe_\\xbb\\xc7\\xedA\\xccC\\xdd\\x9fT\\x03\\xde\\xc1\\xbcR\\xb6\\x8f\\x8e\\x9dL\\xcd0\\xca\\xf2\\x1b\\xa6C\\xfb\\xc3\\xae\\x1e\\xb3\\x0b\"\n"
     ]
    }
   ],
   "source": [
    "a.sendInitialMessage('bob','hello hi guys')"
   ]
  },
  {
   "attachments": {},
   "cell_type": "markdown",
   "metadata": {},
   "source": [
    "Bob receives the message,verifies it and creates secret key"
   ]
  },
  {
   "cell_type": "code",
   "execution_count": 5,
   "metadata": {},
   "outputs": [
    {
     "name": "stdout",
     "output_type": "stream",
     "text": [
      "Received Message from alice\n",
      "Found OPK\n",
      "Receiver Secret Key:  b'\\xc6\\xd51\\x17\\x12\\xbe\\xced\\xc1\\x96\\x14PzcO\\xf1\\xeb\\xef\\x18g\\xf7e\\xf2\\xe7\\xe3\\xfb\\xd3\\xfc\\x17\\x1d\\x115'\n",
      "Message:  {'from': 'alice', 'to': 'bob', 'message': 'hello hi guys'}\n"
     ]
    }
   ],
   "source": [
    "hello=b.recvInitialMessage() "
   ]
  }
 ],
 "metadata": {
  "kernelspec": {
   "display_name": "venv",
   "language": "python",
   "name": "python3"
  },
  "language_info": {
   "codemirror_mode": {
    "name": "ipython",
    "version": 3
   },
   "file_extension": ".py",
   "mimetype": "text/x-python",
   "name": "python",
   "nbconvert_exporter": "python",
   "pygments_lexer": "ipython3",
   "version": "3.10.7"
  },
  "orig_nbformat": 4,
  "vscode": {
   "interpreter": {
    "hash": "54fe8f0b6590fdc0a17510ba3aac962809247f4cb6046f476956e60f80954751"
   }
  }
 },
 "nbformat": 4,
 "nbformat_minor": 2
}
