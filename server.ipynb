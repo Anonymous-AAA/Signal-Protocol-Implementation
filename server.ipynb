{
 "cells": [
  {
   "cell_type": "code",
   "execution_count": 1,
   "metadata": {},
   "outputs": [],
   "source": [
    "from server import Server"
   ]
  },
  {
   "cell_type": "code",
   "execution_count": 2,
   "metadata": {},
   "outputs": [],
   "source": [
    "server=Server()"
   ]
  },
  {
   "attachments": {},
   "cell_type": "markdown",
   "metadata": {},
   "source": [
    "KeyBundles"
   ]
  },
  {
   "cell_type": "code",
   "execution_count": 3,
   "metadata": {},
   "outputs": [
    {
     "name": "stdout",
     "output_type": "stream",
     "text": [
      "{'bob': {'IK_p': b'\\xc2\\x8c\\x8bW\\xcc\\xcfj\\xf2\\xef\\xb0\\x9c\\x17\\xa9\\xd6\\xf3\\x01I\\xb8qk\\x1f\\xcf\\xc9\\xb0#q\\xb8]\\n\\xd5W)', 'SPK_p': b'\\xf0\\xf3\\x90\\x8c\\x7f\\x16p\\xa4ZNr\\xb7\\xc6pk|h\\xc2\\xc9\\xd3\\xfb\\xc7\\x02\\xbf+t0\\xdb\\r\\x85\\xdd8', 'SPK_sig': b'\\x90\\xec\\x12\\x10[M\\xed\\xa0\\xf2\\xee\\xb8k\\xd0\\xf4[\\xf1X\\x06\\xa6\\\\I#;\\xc5p\\xdeZb\\xbc\\xf0\\x90\\xe6VN\\x19{\\xb4^\\xbdu+\\xd3\\xfdH\\x02\\xde\\x03\\x1c\\xf0MhQ|e\\xf5\\ts \\x03\\x9d\\xee[\\xbb\\x0c', 'OPK_p': []}, 'alice': {'IK_p': b'\\xad\\xf4%\\x19\\x8a\\xad\\x83AiX5=\\x15*\\xdf\\x08p\\\\\\x08\\x8d\\xdb\\xe2h\\xae\\xbdOQL\\x9c\\x11lk', 'SPK_p': b'\\xdd\\xb2\\xaaY\\xf3L\\x9ai\\xf8\\x80\\xba\\x89Ai\\xf1j\\xd9\\x83\\xd0\\x16:6\\xe2\\x8a\\r!Cl\\x90]\\xff0', 'SPK_sig': b'\\xb4\\xa9Q\\x9a?\\x86\\xaf\\x08\\xc8\\xae\\x98\\xf8\\x03!\\xecx\\x0bZS\\xcc\\x00\\x96\\x91\\x85Ri\\xf3\\x95~w\\xc3\\x87\\xb6\\x1a\\xe3*\\x0e\\xd6Uld\\x12\\xa4n\\xbak\\x08*\\x1a\\x1c\\x0cJK\\x12\\x1e\\xf4I\\x12\\x8e\\x8e\\x91\\xc3\\x13\\x81', 'OPK_p': []}}\n"
     ]
    }
   ],
   "source": [
    "print(server.key_bundles)"
   ]
  },
  {
   "attachments": {},
   "cell_type": "markdown",
   "metadata": {},
   "source": [
    "Messages"
   ]
  },
  {
   "cell_type": "code",
   "execution_count": 4,
   "metadata": {},
   "outputs": [
    {
     "name": "stdout",
     "output_type": "stream",
     "text": [
      "{('alice', 'bob'): b\"\\xad\\xf4%\\x19\\x8a\\xad\\x83AiX5=\\x15*\\xdf\\x08p\\\\\\x08\\x8d\\xdb\\xe2h\\xae\\xbdOQL\\x9c\\x11lkT\\xbc\\x0e\\x1e{\\x08%\\x89\\xb01[\\xf7\\xeb\\\\\\x05\\xcc\\xc4\\xb6\\x90\\xb7\\xe2\\xa1gH/\\xb6\\x94\\x84\\xef\\xff\\ti\\xbbS\\x07\\xb5mr\\n=I\\xe8\\xe4\\xe1\\xf0,\\xe1\\xcb\\xa3pGX\\xa7\\x8bY,\\xf3\\x9e\\xf0\\x0b\\x12\\x1d\\x87<v\\xaaWl%1.\\xbad\\x88q\\xbe\\x86\\xc0,8\\xf8\\x8c\\xc9|\\xa8\\x11\\xb4W\\x15\\xc3\\x8c\\x1c\\x9d\\xf9\\xf7\\xbd\\x83\\xcdU\\x000\\xd5@\\xabs\\xfcFx\\x00v\\xe7(\\xfa\\x83\\xe7\\x17\\x93\\xd8\\x12\\x9d\\x92\\xf7\\x86E\\x00\\xad{\\x91\\xfc*\\xb1\\x0c\\x86;\\xa5^\\x13\\xe4\\xbc\\x12\\t\\xc5\\xe9\\x19\\xd4 \\x07\\xcb\\xa8O\\x92\\xfbu\\x0cX\\x8d\\x99u\\x05 \\x8c\\xb3>\\xdb\\xcd\\xab`\\xfco\\xfc\\xac\\xd4\\xf8\\xc62\\x92\\x93\\xfd\\xb0\\xd3P\\xa7\\x11g\\xa9=sD\\x9d\\xe1~n\\xd7\\x16\\x1b\\x94C6\\n\\x9e\\x87\\xef\\x05`\\x15\\xe7ar\\x93a\\x8b_\\x05\\xe1\\xf2K\\xeb\\xda\\x0c\\x93\\x0f\\xd3g\\xbao'\\x87\\xe3\\xe9\\xdaq\\xf0iC\\x97\\xd9\\x08s\\xe9\\xfcY\\x8a\\xf9\\xed\\x1cQ\\x9f\\xd6\\tB\\x8e\\xb2<*`N##pO\\xf8\\x18\\xa5\\x86\\x14\\xb6\\xcd\\xf6\\x7f\\xea`\\xeb\\x9cy\\x91}G\\x89@\\xa3\\xee\\x8b\"}\n"
     ]
    }
   ],
   "source": [
    "print(server.messages)"
   ]
  }
 ],
 "metadata": {
  "kernelspec": {
   "display_name": "venv",
   "language": "python",
   "name": "python3"
  },
  "language_info": {
   "codemirror_mode": {
    "name": "ipython",
    "version": 3
   },
   "file_extension": ".py",
   "mimetype": "text/x-python",
   "name": "python",
   "nbconvert_exporter": "python",
   "pygments_lexer": "ipython3",
   "version": "3.10.7"
  },
  "orig_nbformat": 4
 },
 "nbformat": 4,
 "nbformat_minor": 2
}
